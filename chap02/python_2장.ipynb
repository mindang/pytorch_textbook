{
 "cells": [
  {
   "cell_type": "code",
   "execution_count": 1,
   "id": "099ffddd",
   "metadata": {},
   "outputs": [],
   "source": [
    "##2.2.1 텐서 다루기"
   ]
  },
  {
   "cell_type": "code",
   "execution_count": 2,
   "id": "88712725",
   "metadata": {},
   "outputs": [
    {
     "name": "stdout",
     "output_type": "stream",
     "text": [
      "tensor([[1, 2],\n",
      "        [3, 4]])\n",
      "------------------------\n",
      "------------------------\n",
      "tensor([[1., 2.],\n",
      "        [3., 4.]], dtype=torch.float64)\n"
     ]
    }
   ],
   "source": [
    "import torch\n",
    "print(torch.tensor([[1,2],[3,4]]))\n",
    "print('------------------------')\n",
    "#print(torch.tensor([[1,2],[3,4]], device=\"cuda:0\")) #GPU가 없다면 오류가 발생하므로 주석 처리하였습니다.\n",
    "print('------------------------')\n",
    "print(torch.tensor([[1,2],[3,4]], dtype=torch.float64))"
   ]
  },
  {
   "cell_type": "code",
   "execution_count": 3,
   "id": "13955c29",
   "metadata": {},
   "outputs": [
    {
     "name": "stdout",
     "output_type": "stream",
     "text": [
      "[[1 2]\n",
      " [3 4]]\n",
      "------------------------\n",
      "[[1 2]\n",
      " [3 4]]\n"
     ]
    }
   ],
   "source": [
    "temp = torch.tensor([[1,2],[3,4]])\n",
    "print(temp.numpy())\n",
    "print('------------------------')\n",
    "#temp = torch.tensor([[1,2],[3,4]], device=\"cuda:0\") #GPU가 없다면 오류가 발생하므로 주석 처리하였습니다.\n",
    "temp = torch.tensor([[1,2],[3,4]], device=\"cpu:0\")\n",
    "print(temp.to(\"cpu\").numpy())"
   ]
  },
  {
   "cell_type": "code",
   "execution_count": 4,
   "id": "4ceaaed8",
   "metadata": {},
   "outputs": [
    {
     "name": "stdout",
     "output_type": "stream",
     "text": [
      "tensor(1.) tensor(2.) tensor(7.)\n",
      "------------------------\n",
      "tensor([3., 4., 5.]) tensor([5., 6.])\n"
     ]
    }
   ],
   "source": [
    "temp = torch.FloatTensor([1, 2, 3, 4, 5, 6, 7])\n",
    "print(temp[0], temp[1], temp[-1])\n",
    "print('------------------------')\n",
    "print(temp[2:5], temp[4:-1])"
   ]
  },
  {
   "cell_type": "code",
   "execution_count": 5,
   "id": "35d9751c",
   "metadata": {},
   "outputs": [
    {
     "name": "stdout",
     "output_type": "stream",
     "text": [
      "tensor([2, 2, 3])\n"
     ]
    }
   ],
   "source": [
    "v = torch.tensor([1, 2, 3])\n",
    "w = torch.tensor([3, 4, 6])\n",
    "print(w - v)"
   ]
  },
  {
   "cell_type": "code",
   "execution_count": 6,
   "id": "50d75b43",
   "metadata": {},
   "outputs": [
    {
     "name": "stdout",
     "output_type": "stream",
     "text": [
      "torch.Size([2, 2])\n",
      "------------------------\n",
      "tensor([[1],\n",
      "        [2],\n",
      "        [3],\n",
      "        [4]])\n",
      "------------------------\n",
      "tensor([1, 2, 3, 4])\n",
      "------------------------\n",
      "tensor([[1, 2, 3, 4]])\n",
      "------------------------\n",
      "tensor([[1],\n",
      "        [2],\n",
      "        [3],\n",
      "        [4]])\n"
     ]
    }
   ],
   "source": [
    "temp = torch.tensor([\n",
    "    [1, 2], [3, 4]\n",
    "])\n",
    "\n",
    "print(temp.shape)\n",
    "print('------------------------')\n",
    "print(temp.view(4,1))\n",
    "print('------------------------')\n",
    "print(temp.view(-1))\n",
    "print('------------------------')\n",
    "print(temp.view(1, -1))\n",
    "print('------------------------')\n",
    "print(temp.view(-1, 1))"
   ]
  },
  {
   "cell_type": "code",
   "execution_count": 62,
   "id": "42e98bca",
   "metadata": {},
   "outputs": [],
   "source": [
    "#2.4 파이토치 코드 맛보기"
   ]
  },
  {
   "cell_type": "code",
<<<<<<< HEAD
   "execution_count": 139,
=======
   "execution_count": 24,
>>>>>>> fe933d941802bb5964a312e300d85e4b1cd3ba9f
   "id": "44961535",
   "metadata": {},
   "outputs": [],
   "source": [
    "import torch\n",
    "import torch.nn as nn\n",
    "import numpy as np\n",
    "import pandas as pd\n",
    "import matplotlib.pyplot as plt\n",
    "import seaborn as sns\n",
    "%matplotlib inline"
   ]
  },
  {
   "cell_type": "code",
<<<<<<< HEAD
   "execution_count": 140,
=======
   "execution_count": 25,
>>>>>>> fe933d941802bb5964a312e300d85e4b1cd3ba9f
   "id": "4fb364a0",
   "metadata": {},
   "outputs": [],
   "source": [
    "dataset = pd.read_csv(r'../chap02/data/car_evaluation.csv')"
   ]
  },
  {
   "cell_type": "code",
<<<<<<< HEAD
   "execution_count": 141,
=======
   "execution_count": 26,
>>>>>>> fe933d941802bb5964a312e300d85e4b1cd3ba9f
   "id": "63ea085b",
   "metadata": {},
   "outputs": [
    {
     "data": {
      "text/html": [
       "<div>\n",
       "<style scoped>\n",
       "    .dataframe tbody tr th:only-of-type {\n",
       "        vertical-align: middle;\n",
       "    }\n",
       "\n",
       "    .dataframe tbody tr th {\n",
       "        vertical-align: top;\n",
       "    }\n",
       "\n",
       "    .dataframe thead th {\n",
       "        text-align: right;\n",
       "    }\n",
       "</style>\n",
       "<table border=\"1\" class=\"dataframe\">\n",
       "  <thead>\n",
       "    <tr style=\"text-align: right;\">\n",
       "      <th></th>\n",
       "      <th>price</th>\n",
       "      <th>maint</th>\n",
       "      <th>doors</th>\n",
       "      <th>persons</th>\n",
       "      <th>lug_capacity</th>\n",
       "      <th>safety</th>\n",
       "      <th>output</th>\n",
       "    </tr>\n",
       "  </thead>\n",
       "  <tbody>\n",
       "    <tr>\n",
       "      <th>0</th>\n",
       "      <td>vhigh</td>\n",
       "      <td>vhigh</td>\n",
       "      <td>2</td>\n",
       "      <td>2</td>\n",
       "      <td>small</td>\n",
       "      <td>low</td>\n",
       "      <td>unacc</td>\n",
       "    </tr>\n",
       "    <tr>\n",
       "      <th>1</th>\n",
       "      <td>vhigh</td>\n",
       "      <td>vhigh</td>\n",
       "      <td>2</td>\n",
       "      <td>2</td>\n",
       "      <td>small</td>\n",
       "      <td>med</td>\n",
       "      <td>unacc</td>\n",
       "    </tr>\n",
       "    <tr>\n",
       "      <th>2</th>\n",
       "      <td>vhigh</td>\n",
       "      <td>vhigh</td>\n",
       "      <td>2</td>\n",
       "      <td>2</td>\n",
       "      <td>small</td>\n",
       "      <td>high</td>\n",
       "      <td>unacc</td>\n",
       "    </tr>\n",
       "    <tr>\n",
       "      <th>3</th>\n",
       "      <td>vhigh</td>\n",
       "      <td>vhigh</td>\n",
       "      <td>2</td>\n",
       "      <td>2</td>\n",
       "      <td>med</td>\n",
       "      <td>low</td>\n",
       "      <td>unacc</td>\n",
       "    </tr>\n",
       "    <tr>\n",
       "      <th>4</th>\n",
       "      <td>vhigh</td>\n",
       "      <td>vhigh</td>\n",
       "      <td>2</td>\n",
       "      <td>2</td>\n",
       "      <td>med</td>\n",
       "      <td>med</td>\n",
       "      <td>unacc</td>\n",
       "    </tr>\n",
       "  </tbody>\n",
       "</table>\n",
       "</div>"
      ],
      "text/plain": [
       "   price  maint doors persons lug_capacity safety output\n",
       "0  vhigh  vhigh     2       2        small    low  unacc\n",
       "1  vhigh  vhigh     2       2        small    med  unacc\n",
       "2  vhigh  vhigh     2       2        small   high  unacc\n",
       "3  vhigh  vhigh     2       2          med    low  unacc\n",
       "4  vhigh  vhigh     2       2          med    med  unacc"
      ]
     },
<<<<<<< HEAD
     "execution_count": 141,
=======
     "execution_count": 26,
>>>>>>> fe933d941802bb5964a312e300d85e4b1cd3ba9f
     "metadata": {},
     "output_type": "execute_result"
    }
   ],
   "source": [
    "dataset.head()"
   ]
  },
  {
   "cell_type": "code",
<<<<<<< HEAD
   "execution_count": 142,
=======
   "execution_count": 27,
>>>>>>> fe933d941802bb5964a312e300d85e4b1cd3ba9f
   "id": "1854b091",
   "metadata": {},
   "outputs": [
    {
     "data": {
      "text/plain": [
       "<Axes: ylabel='output'>"
      ]
     },
<<<<<<< HEAD
     "execution_count": 142,
=======
     "execution_count": 27,
>>>>>>> fe933d941802bb5964a312e300d85e4b1cd3ba9f
     "metadata": {},
     "output_type": "execute_result"
    },
    {
     "data": {
<<<<<<< HEAD
      "image/png": "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",
=======
      "image/png": "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",
>>>>>>> fe933d941802bb5964a312e300d85e4b1cd3ba9f
      "text/plain": [
       "<Figure size 800x600 with 1 Axes>"
      ]
     },
     "metadata": {},
     "output_type": "display_data"
    }
   ],
   "source": [
    "fig_size = plt.rcParams[\"figure.figsize\"]\n",
    "fig_size[0] = 8\n",
    "fig_size[1] = 6\n",
    "plt.rcParams[\"figure.figsize\"] = fig_size\n",
    "dataset.output.value_counts().plot(kind='pie', autopct='%0.05f%%', colors=['lightblue', 'lightgreen', 'orange', 'pink'], explode=(0.05, 0.05, 0.05,0.05))"
   ]
  },
  {
   "cell_type": "code",
<<<<<<< HEAD
   "execution_count": 143,
=======
   "execution_count": 28,
>>>>>>> fe933d941802bb5964a312e300d85e4b1cd3ba9f
   "id": "73c82b06",
   "metadata": {},
   "outputs": [],
   "source": [
    "categorical_columns = ['price', 'maint', 'doors', 'persons', 'lug_capacity', 'safety']"
   ]
  },
  {
   "cell_type": "code",
<<<<<<< HEAD
   "execution_count": 144,
=======
   "execution_count": 29,
>>>>>>> fe933d941802bb5964a312e300d85e4b1cd3ba9f
   "id": "281fc4df",
   "metadata": {},
   "outputs": [],
   "source": [
    "for category in categorical_columns:\n",
    "    dataset[category] = dataset[category].astype('category')"
   ]
  },
  {
   "cell_type": "code",
<<<<<<< HEAD
   "execution_count": 145,
=======
   "execution_count": 30,
>>>>>>> fe933d941802bb5964a312e300d85e4b1cd3ba9f
   "id": "c6b735e5",
   "metadata": {},
   "outputs": [
    {
     "data": {
      "text/plain": [
       "array([[3, 3, 0, 0, 2, 1],\n",
       "       [3, 3, 0, 0, 2, 2],\n",
       "       [3, 3, 0, 0, 2, 0],\n",
       "       [3, 3, 0, 0, 1, 1],\n",
       "       [3, 3, 0, 0, 1, 2],\n",
       "       [3, 3, 0, 0, 1, 0],\n",
       "       [3, 3, 0, 0, 0, 1],\n",
       "       [3, 3, 0, 0, 0, 2],\n",
       "       [3, 3, 0, 0, 0, 0],\n",
       "       [3, 3, 0, 1, 2, 1]], dtype=int8)"
      ]
     },
<<<<<<< HEAD
     "execution_count": 145,
=======
     "execution_count": 30,
>>>>>>> fe933d941802bb5964a312e300d85e4b1cd3ba9f
     "metadata": {},
     "output_type": "execute_result"
    }
   ],
   "source": [
    "price = dataset['price'].cat.codes.values\n",
    "maint = dataset['maint'].cat.codes.values\n",
    "doors = dataset['doors'].cat.codes.values\n",
    "persons = dataset['persons'].cat.codes.values\n",
    "lug_capacity = dataset['lug_capacity'].cat.codes.values\n",
    "safety = dataset['safety'].cat.codes.values\n",
    "\n",
    "categorical_data = np.stack([price, maint, doors, persons, lug_capacity, safety], 1)\n",
    "categorical_data[:10]"
   ]
  },
  {
   "cell_type": "code",
<<<<<<< HEAD
   "execution_count": 146,
=======
   "execution_count": 31,
>>>>>>> fe933d941802bb5964a312e300d85e4b1cd3ba9f
   "id": "11ea6d73",
   "metadata": {},
   "outputs": [
    {
     "data": {
      "text/plain": [
       "tensor([[3, 3, 0, 0, 2, 1],\n",
       "        [3, 3, 0, 0, 2, 2],\n",
       "        [3, 3, 0, 0, 2, 0],\n",
       "        [3, 3, 0, 0, 1, 1],\n",
       "        [3, 3, 0, 0, 1, 2],\n",
       "        [3, 3, 0, 0, 1, 0],\n",
       "        [3, 3, 0, 0, 0, 1],\n",
       "        [3, 3, 0, 0, 0, 2],\n",
       "        [3, 3, 0, 0, 0, 0],\n",
       "        [3, 3, 0, 1, 2, 1]])"
      ]
     },
<<<<<<< HEAD
     "execution_count": 146,
=======
     "execution_count": 31,
>>>>>>> fe933d941802bb5964a312e300d85e4b1cd3ba9f
     "metadata": {},
     "output_type": "execute_result"
    }
   ],
   "source": [
    "categorical_data = torch.tensor(categorical_data, dtype=torch.int64)\n",
    "categorical_data[:10]"
   ]
  },
  {
   "cell_type": "code",
<<<<<<< HEAD
   "execution_count": 147,
   "id": "b10ee408",
   "metadata": {},
   "outputs": [
    {
     "data": {
      "text/plain": [
       "0       unacc\n",
       "1       unacc\n",
       "2       unacc\n",
       "3       unacc\n",
       "4       unacc\n",
       "        ...  \n",
       "1723     good\n",
       "1724    vgood\n",
       "1725    unacc\n",
       "1726     good\n",
       "1727    vgood\n",
       "Name: output, Length: 1728, dtype: object"
      ]
     },
     "execution_count": 147,
     "metadata": {},
     "output_type": "execute_result"
    }
   ],
   "source": [
    "dataset.output"
   ]
  },
  {
   "cell_type": "code",
   "execution_count": null,
   "id": "29aa10e9",
   "metadata": {},
   "outputs": [],
   "source": []
  },
  {
   "cell_type": "code",
   "execution_count": 149,
=======
   "execution_count": 32,
>>>>>>> fe933d941802bb5964a312e300d85e4b1cd3ba9f
   "id": "e765bcab",
   "metadata": {},
   "outputs": [
    {
     "name": "stdout",
     "output_type": "stream",
     "text": [
      "(1728, 4)\n",
      "(1728, 4)\n",
      "torch.Size([1728, 6])\n",
      "torch.Size([1728])\n"
     ]
    }
   ],
   "source": [
    "outputs = pd.get_dummies(dataset.output)\n",
    "print(outputs.shape)\n",
    "outputs = outputs.values\n",
<<<<<<< HEAD
    "print(outputs.shape)\n",
    "# outputs = torch.tensor(outputs).flatten()\n",
    "outputs = torch.tensor(outputs)\n",
    "outputs = torch.argmax(outputs, dim=1)\n",
=======
    "outputs = torch.tensor(outputs)\n",
    "outputs = torch.argmax(outputs,dim=1)\n",
>>>>>>> fe933d941802bb5964a312e300d85e4b1cd3ba9f
    "\n",
    "print(categorical_data.shape)\n",
    "print(outputs.shape)"
   ]
  },
  {
   "cell_type": "code",
<<<<<<< HEAD
   "execution_count": 150,
   "id": "0bf9770f",
   "metadata": {},
   "outputs": [
    {
     "data": {
      "text/plain": [
       "4"
      ]
     },
     "execution_count": 150,
     "metadata": {},
     "output_type": "execute_result"
    }
   ],
   "source": [
    "len(dataset['price'].cat.categories)"
   ]
  },
  {
   "cell_type": "code",
   "execution_count": 151,
=======
   "execution_count": 33,
>>>>>>> fe933d941802bb5964a312e300d85e4b1cd3ba9f
   "id": "828e0711",
   "metadata": {},
   "outputs": [
    {
     "name": "stdout",
     "output_type": "stream",
     "text": [
      "[(4, 2), (4, 2), (4, 2), (3, 2), (3, 2), (3, 2)]\n"
     ]
    }
   ],
   "source": [
    "categorical_column_sizes = [len(dataset[column].cat.categories) for column in categorical_columns]\n",
    "categorical_embedding_sizes = [(col_size, min(50, (col_size+1)//2)) for col_size in categorical_column_sizes]\n",
    "print(categorical_embedding_sizes)"
   ]
  },
  {
   "cell_type": "code",
<<<<<<< HEAD
   "execution_count": 152,
=======
   "execution_count": 34,
>>>>>>> fe933d941802bb5964a312e300d85e4b1cd3ba9f
   "id": "de38aa0b",
   "metadata": {},
   "outputs": [],
   "source": [
    "total_records = 1728\n",
    "test_records = int(total_records * .2)\n",
    "\n",
    "categorical_train_data = categorical_data[:total_records-test_records]\n",
    "categorical_test_data = categorical_data[total_records-test_records:total_records]\n",
    "train_outputs = outputs[:total_records-test_records]\n",
    "test_outputs = outputs[total_records-test_records:total_records]"
   ]
  },
  {
   "cell_type": "code",
<<<<<<< HEAD
   "execution_count": 153,
   "id": "339b1307",
   "metadata": {},
   "outputs": [
    {
     "data": {
      "text/plain": [
       "torch.Size([1728])"
      ]
     },
     "execution_count": 153,
     "metadata": {},
     "output_type": "execute_result"
    }
   ],
   "source": [
    "outputs.shape"
   ]
  },
  {
   "cell_type": "code",
   "execution_count": 154,
=======
   "execution_count": 35,
>>>>>>> fe933d941802bb5964a312e300d85e4b1cd3ba9f
   "id": "46eb162b",
   "metadata": {},
   "outputs": [
    {
     "name": "stdout",
     "output_type": "stream",
     "text": [
      "torch.Size([1383, 6])\n",
      "torch.Size([1383])\n",
      "torch.Size([345, 6])\n",
      "torch.Size([345])\n"
     ]
    }
   ],
   "source": [
    "print(categorical_train_data.shape)\n",
    "print(train_outputs.shape)\n",
    "print(categorical_test_data.shape)\n",
    "print(test_outputs.shape)"
   ]
  },
  {
   "cell_type": "code",
<<<<<<< HEAD
   "execution_count": 155,
   "id": "5fc2de23",
   "metadata": {},
   "outputs": [
    {
     "name": "stdout",
     "output_type": "stream",
     "text": [
      "torch.Size([1383, 6])\n",
      "torch.Size([1383])\n",
      "torch.Size([345, 6])\n",
      "torch.Size([345])\n"
     ]
    }
   ],
   "source": [
    "print(categorical_train_data.shape)\n",
    "print(train_outputs.shape)\n",
    "print(categorical_test_data.shape)\n",
    "print(test_outputs.shape)"
   ]
  },
  {
   "cell_type": "code",
   "execution_count": 156,
=======
   "execution_count": 36,
>>>>>>> fe933d941802bb5964a312e300d85e4b1cd3ba9f
   "id": "2eaa67ca",
   "metadata": {},
   "outputs": [],
   "source": [
    "class Model(nn.Module):\n",
    "    def __init__(self, embedding_size, output_size, layers, p=0.4):\n",
    "        super().__init__()\n",
    "        self.all_embeddings = nn.ModuleList([nn.Embedding(ni, nf) for ni, nf in embedding_size])\n",
    "        self.embedding_dropout = nn.Dropout(p)\n",
    "        \n",
    "        all_layers = []\n",
    "        num_categorical_cols = sum((nf for ni, nf in embedding_size))\n",
    "        input_size = num_categorical_cols \n",
    "\n",
    "        for i in layers:\n",
    "            all_layers.append(nn.Linear(input_size, i))\n",
    "            all_layers.append(nn.ReLU(inplace=True))\n",
    "            all_layers.append(nn.BatchNorm1d(i))\n",
    "            all_layers.append(nn.Dropout(p))\n",
    "            input_size = i\n",
    "\n",
    "        all_layers.append(nn.Linear(layers[-1], output_size))\n",
    "        self.layers = nn.Sequential(*all_layers)\n",
    "\n",
    "    def forward(self, x_categorical):\n",
    "        embeddings = []\n",
    "        for i,e in enumerate(self.all_embeddings):\n",
    "            embeddings.append(e(x_categorical[:,i]))\n",
    "        x = torch.cat(embeddings, 1)\n",
    "        x = self.embedding_dropout(x)\n",
    "        x = self.layers(x)\n",
    "        return x"
   ]
  },
  {
   "cell_type": "code",
<<<<<<< HEAD
   "execution_count": 157,
   "id": "f9c83849",
   "metadata": {},
   "outputs": [
    {
     "data": {
      "text/plain": [
       "[(4, 2), (4, 2), (4, 2), (3, 2), (3, 2), (3, 2)]"
      ]
     },
     "execution_count": 157,
     "metadata": {},
     "output_type": "execute_result"
    }
   ],
   "source": [
    "categorical_embedding_sizes"
   ]
  },
  {
   "cell_type": "code",
   "execution_count": 158,
=======
   "execution_count": 37,
>>>>>>> fe933d941802bb5964a312e300d85e4b1cd3ba9f
   "id": "4909ff0e",
   "metadata": {},
   "outputs": [
    {
     "name": "stdout",
     "output_type": "stream",
     "text": [
      "Model(\n",
      "  (all_embeddings): ModuleList(\n",
      "    (0-2): 3 x Embedding(4, 2)\n",
      "    (3-5): 3 x Embedding(3, 2)\n",
      "  )\n",
      "  (embedding_dropout): Dropout(p=0.4, inplace=False)\n",
      "  (layers): Sequential(\n",
      "    (0): Linear(in_features=12, out_features=200, bias=True)\n",
      "    (1): ReLU(inplace=True)\n",
      "    (2): BatchNorm1d(200, eps=1e-05, momentum=0.1, affine=True, track_running_stats=True)\n",
      "    (3): Dropout(p=0.4, inplace=False)\n",
      "    (4): Linear(in_features=200, out_features=100, bias=True)\n",
      "    (5): ReLU(inplace=True)\n",
      "    (6): BatchNorm1d(100, eps=1e-05, momentum=0.1, affine=True, track_running_stats=True)\n",
      "    (7): Dropout(p=0.4, inplace=False)\n",
      "    (8): Linear(in_features=100, out_features=50, bias=True)\n",
      "    (9): ReLU(inplace=True)\n",
      "    (10): BatchNorm1d(50, eps=1e-05, momentum=0.1, affine=True, track_running_stats=True)\n",
      "    (11): Dropout(p=0.4, inplace=False)\n",
      "    (12): Linear(in_features=50, out_features=4, bias=True)\n",
      "  )\n",
      ")\n"
     ]
    }
   ],
   "source": [
    "model = Model(categorical_embedding_sizes, 4, [200,100,50], p=0.4)\n",
    "print(model)"
   ]
  },
  {
   "cell_type": "code",
<<<<<<< HEAD
   "execution_count": 159,
=======
   "execution_count": 38,
>>>>>>> fe933d941802bb5964a312e300d85e4b1cd3ba9f
   "id": "301d59a6",
   "metadata": {},
   "outputs": [],
   "source": [
    "loss_function = nn.CrossEntropyLoss()\n",
    "optimizer = torch.optim.Adam(model.parameters(), lr=0.001)"
   ]
  },
  {
   "cell_type": "code",
<<<<<<< HEAD
   "execution_count": 160,
=======
   "execution_count": 39,
>>>>>>> fe933d941802bb5964a312e300d85e4b1cd3ba9f
   "id": "3d5c313f",
   "metadata": {},
   "outputs": [],
   "source": [
    "if torch.cuda.is_available():\n",
    "    device = torch.device('cuda')\n",
    "else:\n",
    "    device = torch.device('cpu')"
   ]
  },
  {
   "cell_type": "code",
<<<<<<< HEAD
   "execution_count": 161,
   "id": "820a6612",
   "metadata": {},
   "outputs": [
    {
     "data": {
      "text/plain": [
       "torch.Size([1383])"
      ]
     },
     "execution_count": 161,
     "metadata": {},
     "output_type": "execute_result"
    }
   ],
   "source": [
    "train_outputs.shape"
   ]
  },
  {
   "cell_type": "code",
   "execution_count": 162,
=======
   "execution_count": 42,
>>>>>>> fe933d941802bb5964a312e300d85e4b1cd3ba9f
   "id": "56492e5b",
   "metadata": {},
   "outputs": [
    {
     "name": "stdout",
     "output_type": "stream",
     "text": [
<<<<<<< HEAD
      "epoch:   1 loss: 1.57768488\n",
      "epoch:  26 loss: 1.25050545\n",
      "epoch:  51 loss: 1.12112963\n",
      "epoch:  76 loss: 1.02919674\n",
      "epoch: 101 loss: 0.89899111\n",
      "epoch: 126 loss: 0.78712559\n",
      "epoch: 151 loss: 0.72879249\n",
      "epoch: 176 loss: 0.62210524\n",
      "epoch: 201 loss: 0.58992970\n",
      "epoch: 226 loss: 0.54566300\n",
      "epoch: 251 loss: 0.51434571\n",
      "epoch: 276 loss: 0.51825547\n",
      "epoch: 301 loss: 0.51072145\n",
      "epoch: 326 loss: 0.45941973\n",
      "epoch: 351 loss: 0.47001824\n",
      "epoch: 376 loss: 0.46387014\n",
      "epoch: 401 loss: 0.46996522\n",
      "epoch: 426 loss: 0.41986835\n",
      "epoch: 451 loss: 0.41010338\n",
      "epoch: 476 loss: 0.42047235\n",
      "epoch: 500 loss: 0.4012320042\n"
=======
      "epoch:   1 loss: 1.48521316\n",
      "epoch:  26 loss: 1.12487364\n",
      "epoch:  51 loss: 0.95067739\n",
      "epoch:  76 loss: 0.87224799\n",
      "epoch: 101 loss: 0.79478103\n",
      "epoch: 126 loss: 0.74635071\n",
      "epoch: 151 loss: 0.66771382\n",
      "epoch: 176 loss: 0.60808247\n",
      "epoch: 201 loss: 0.54363447\n",
      "epoch: 226 loss: 0.54742473\n",
      "epoch: 251 loss: 0.54474354\n",
      "epoch: 276 loss: 0.49146566\n",
      "epoch: 301 loss: 0.47268692\n",
      "epoch: 326 loss: 0.44898197\n",
      "epoch: 351 loss: 0.44062471\n",
      "epoch: 376 loss: 0.42111111\n",
      "epoch: 401 loss: 0.41968331\n",
      "epoch: 426 loss: 0.40693963\n",
      "epoch: 451 loss: 0.41994885\n",
      "epoch: 476 loss: 0.43939817\n",
      "epoch: 500 loss: 0.3842444718\n"
>>>>>>> fe933d941802bb5964a312e300d85e4b1cd3ba9f
     ]
    }
   ],
   "source": [
    "epochs = 500\n",
    "aggregated_losses = []\n",
    "train_outputs = train_outputs.to(device=device, dtype=torch.int64)\n",
    "for i in range(epochs):\n",
    "    i += 1\n",
    "    y_pred = model(categorical_train_data).to(device)\n",
    "    single_loss = loss_function(y_pred, train_outputs)\n",
    "    aggregated_losses.append(single_loss)\n",
    "\n",
    "    if i%25 == 1:\n",
    "        print(f'epoch: {i:3} loss: {single_loss.item():10.8f}')\n",
    "\n",
    "    optimizer.zero_grad()\n",
    "    single_loss.backward()\n",
    "    optimizer.step()\n",
    "\n",
    "print(f'epoch: {i:3} loss: {single_loss.item():10.10f}')"
   ]
  },
  {
   "cell_type": "code",
<<<<<<< HEAD
   "execution_count": 84,
=======
   "execution_count": 56,
>>>>>>> fe933d941802bb5964a312e300d85e4b1cd3ba9f
   "id": "fd2f1035",
   "metadata": {},
   "outputs": [
    {
     "name": "stdout",
     "output_type": "stream",
     "text": [
<<<<<<< HEAD
      "Loss: 0.56329179\n"
=======
      "Loss: 1.21076083\n"
>>>>>>> fe933d941802bb5964a312e300d85e4b1cd3ba9f
     ]
    }
   ],
   "source": [
    "test_outputs = test_outputs.to(device=device, dtype=torch.int64)\n",
    "with torch.no_grad():\n",
    "    y_val = model(categorical_test_data).to(device)\n",
    "    loss = loss_function(y_val, test_outputs)\n",
    "print(f'Loss: {loss:.8f}')"
   ]
  },
  {
   "cell_type": "code",
<<<<<<< HEAD
   "execution_count": 85,
=======
   "execution_count": 57,
>>>>>>> fe933d941802bb5964a312e300d85e4b1cd3ba9f
   "id": "6735f451",
   "metadata": {},
   "outputs": [
    {
     "name": "stdout",
     "output_type": "stream",
     "text": [
<<<<<<< HEAD
      "tensor([[ 2.4940,  1.1800, -4.0802, -4.0602],\n",
      "        [ 2.5317,  1.2032, -3.5390, -3.4153],\n",
      "        [ 3.7196,  2.4366, -5.3099, -5.4077],\n",
      "        [ 2.6464,  1.4799, -3.9647, -3.9907],\n",
      "        [ 2.4902,  1.2390, -3.5934, -3.6008]])\n"
=======
      "tensor([[-2.1553, -2.8552,  5.5079, -2.3548],\n",
      "        [-3.0893, -0.8934,  4.1558, -1.0560],\n",
      "        [-4.5240, -1.4875,  7.1464, -0.9250],\n",
      "        [ 0.7790, -2.6281,  3.6232, -3.0495],\n",
      "        [ 0.4163, -3.1180,  4.8030, -3.0377]], device='cuda:0')\n"
>>>>>>> fe933d941802bb5964a312e300d85e4b1cd3ba9f
     ]
    }
   ],
   "source": [
    "print(y_val[:5])"
   ]
  },
  {
   "cell_type": "code",
<<<<<<< HEAD
   "execution_count": 86,
=======
   "execution_count": 58,
>>>>>>> fe933d941802bb5964a312e300d85e4b1cd3ba9f
   "id": "5acf59f2",
   "metadata": {},
   "outputs": [
    {
     "name": "stdout",
     "output_type": "stream",
     "text": [
      "tensor([2, 2, 2, 2, 2])\n"
     ]
    }
   ],
   "source": [
    "y_val = np.argmax(y_val.cpu(), axis=1)\n",
    "print(y_val[:5])"
   ]
  },
  {
   "cell_type": "code",
<<<<<<< HEAD
   "execution_count": 87,
=======
   "execution_count": 60,
>>>>>>> fe933d941802bb5964a312e300d85e4b1cd3ba9f
   "id": "a7e16502",
   "metadata": {},
   "outputs": [
    {
     "name": "stdout",
     "output_type": "stream",
     "text": [
<<<<<<< HEAD
      "[[259   0]\n",
      " [ 83   3]]\n",
      "              precision    recall  f1-score   support\n",
      "\n",
      "           0       0.76      1.00      0.86       259\n",
      "           1       1.00      0.03      0.07        86\n",
      "\n",
      "    accuracy                           0.76       345\n",
      "   macro avg       0.88      0.52      0.46       345\n",
      "weighted avg       0.82      0.76      0.66       345\n",
      "\n",
      "0.7594202898550725\n"
=======
      "[[ 14   0  49   0]\n",
      " [ 31   0  15   0]\n",
      " [ 11   0 186   0]\n",
      " [ 26   0  13   0]]\n",
      "              precision    recall  f1-score   support\n",
      "\n",
      "           0       0.17      0.22      0.19        63\n",
      "           1       0.00      0.00      0.00        46\n",
      "           2       0.71      0.94      0.81       197\n",
      "           3       0.00      0.00      0.00        39\n",
      "\n",
      "    accuracy                           0.58       345\n",
      "   macro avg       0.22      0.29      0.25       345\n",
      "weighted avg       0.44      0.58      0.50       345\n",
      "\n",
      "0.5797101449275363\n"
     ]
    },
    {
     "name": "stderr",
     "output_type": "stream",
     "text": [
      "c:\\Users\\minki\\miniconda3\\envs\\dl_venv\\lib\\site-packages\\sklearn\\metrics\\_classification.py:1344: UndefinedMetricWarning: Precision and F-score are ill-defined and being set to 0.0 in labels with no predicted samples. Use `zero_division` parameter to control this behavior.\n",
      "  _warn_prf(average, modifier, msg_start, len(result))\n",
      "c:\\Users\\minki\\miniconda3\\envs\\dl_venv\\lib\\site-packages\\sklearn\\metrics\\_classification.py:1344: UndefinedMetricWarning: Precision and F-score are ill-defined and being set to 0.0 in labels with no predicted samples. Use `zero_division` parameter to control this behavior.\n",
      "  _warn_prf(average, modifier, msg_start, len(result))\n",
      "c:\\Users\\minki\\miniconda3\\envs\\dl_venv\\lib\\site-packages\\sklearn\\metrics\\_classification.py:1344: UndefinedMetricWarning: Precision and F-score are ill-defined and being set to 0.0 in labels with no predicted samples. Use `zero_division` parameter to control this behavior.\n",
      "  _warn_prf(average, modifier, msg_start, len(result))\n"
>>>>>>> fe933d941802bb5964a312e300d85e4b1cd3ba9f
     ]
    }
   ],
   "source": [
    "from sklearn.metrics import classification_report, confusion_matrix, accuracy_score\n",
    "\n",
    "print(confusion_matrix(test_outputs.cpu(),y_val))\n",
    "print(classification_report(test_outputs.cpu(),y_val))\n",
    "print(accuracy_score(test_outputs.cpu(), y_val))"
   ]
  },
  {
   "cell_type": "code",
   "execution_count": null,
   "id": "9f176217",
   "metadata": {},
   "outputs": [],
   "source": []
  }
 ],
 "metadata": {
  "kernelspec": {
<<<<<<< HEAD
   "display_name": "Python 3",
=======
   "display_name": "dl_venv",
>>>>>>> fe933d941802bb5964a312e300d85e4b1cd3ba9f
   "language": "python",
   "name": "python3"
  },
  "language_info": {
   "codemirror_mode": {
    "name": "ipython",
    "version": 3
   },
   "file_extension": ".py",
   "mimetype": "text/x-python",
   "name": "python",
   "nbconvert_exporter": "python",
   "pygments_lexer": "ipython3",
   "version": "3.10.9"
  }
 },
 "nbformat": 4,
 "nbformat_minor": 5
}
